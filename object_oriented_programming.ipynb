{
 "cells": [
  {
   "cell_type": "code",
   "execution_count": 17,
   "metadata": {},
   "outputs": [],
   "source": [
    "class HealthInsurance:\n",
    "    def __init__(self,company_name,foundation_year,foundation_name,company_slogan,num_of_employees,num_of_clients):\n",
    "        self.company_name=company_name\n",
    "        self.foundation_year=foundation_year\n",
    "        self.foundation_name=foundation_name\n",
    "        self.company_slogan=company_slogan\n",
    "        self.num_of_employees=num_of_employees\n",
    "        self.num_of_clients=num_of_clients\n",
    "    \n",
    "    def print_report(self):\n",
    "        print(f\"The company {self.company_name} was founded in {self.foundation_year}.The founder of the company is {self.foundation_name}.Company slogan:{self.company_slogan}Number of employees:{self.num_of_employees}Number of clients:{self.num_of_clients}\")\n",
    "    \n",
    "    def sup_health_insurance(self,age,chronic_disease,income):\n",
    "        self.age=age\n",
    "        self.chronic_disease=chronic_disease\n",
    "        self.income=income\n",
    "        if age >= 60 and chronic_disease==True and income<600:\n",
    "            print(\"We are sorry! You are not eligible supplemental health insurance.\")\n",
    "        elif age < 60 and income >=6000 or chronic_disease==False:\n",
    "            print(\"Congrulations! You can get supplemental health insurance\")\n",
    "    \n",
    "    def update_num_clients(self,new_number):\n",
    "        self.new_number=new_number\n",
    "        self.num_of_clients=new_number\n",
    "        print(f\"Number of clients has been changed {self.new_number}!\")"
   ]
  },
  {
   "cell_type": "code",
   "execution_count": 2,
   "metadata": {},
   "outputs": [],
   "source": [
    "HI_company=HealthInsurance(\"Healthy\",2012,\"Bob Mayer\",\"We care for you\",3500,13230)"
   ]
  },
  {
   "cell_type": "code",
   "execution_count": 12,
   "metadata": {},
   "outputs": [
    {
     "data": {
      "text/plain": [
       "<bound method HealthInsurance.print_report of <__main__.HealthInsurance object at 0x000002846C526740>>"
      ]
     },
     "execution_count": 12,
     "metadata": {},
     "output_type": "execute_result"
    }
   ],
   "source": [
    "HI_company.print_report"
   ]
  },
  {
   "cell_type": "code",
   "execution_count": 14,
   "metadata": {},
   "outputs": [
    {
     "name": "stdout",
     "output_type": "stream",
     "text": [
      "Number of clients has been changed 20!\n"
     ]
    }
   ],
   "source": [
    "HI_company.update_num_clients(20)"
   ]
  },
  {
   "cell_type": "code",
   "execution_count": 15,
   "metadata": {},
   "outputs": [
    {
     "data": {
      "text/plain": [
       "20"
      ]
     },
     "execution_count": 15,
     "metadata": {},
     "output_type": "execute_result"
    }
   ],
   "source": [
    "HI_company.num_of_clients"
   ]
  },
  {
   "cell_type": "code",
   "execution_count": 19,
   "metadata": {},
   "outputs": [
    {
     "name": "stdout",
     "output_type": "stream",
     "text": [
      "We are sorry! You are not eligible supplemental health insurance.\n"
     ]
    }
   ],
   "source": [
    "HI_company.sup_health_insurance(80,True,20)"
   ]
  },
  {
   "cell_type": "code",
   "execution_count": 27,
   "metadata": {},
   "outputs": [],
   "source": [
    "class Logistic:\n",
    "    def __init__(self,company_name,foundation_year,founder_name,company_slogan,inventory_space):\n",
    "        self.company_name=company_name\n",
    "        self.foundation_year=foundation_year\n",
    "        self.founder_name=founder_name\n",
    "        self.company_slogan=company_slogan\n",
    "        self.inventory_space=inventory_space\n",
    "    def print_report(self):\n",
    "        print(f\"The company name is {self.company_name} and was founded in {self.foundation_year}. The founder of the company is {self.founder_name}. Company slogan: {self.company_slogan}. Inventory space of the company:{self.inventory_space} \")\n",
    "    def update_space(self,new_torage_space):\n",
    "        self.inventory_space=new_torage_space\n",
    "        print(f\"Inventory space has been changed to {self.inventory_space}!\")"
   ]
  },
  {
   "cell_type": "code",
   "execution_count": 30,
   "metadata": {},
   "outputs": [],
   "source": [
    "logistic_company1=Logistic(\"LogVom\",1990,\"Laura McCartey\",\"There is no space we cannot reach\",2500)"
   ]
  },
  {
   "cell_type": "code",
   "execution_count": 32,
   "metadata": {},
   "outputs": [
    {
     "data": {
      "text/plain": [
       "2500"
      ]
     },
     "execution_count": 32,
     "metadata": {},
     "output_type": "execute_result"
    }
   ],
   "source": [
    "logistic_company1.inventory_space"
   ]
  },
  {
   "cell_type": "code",
   "execution_count": 34,
   "metadata": {},
   "outputs": [
    {
     "name": "stdout",
     "output_type": "stream",
     "text": [
      "Inventory space has been changed to 3500!\n"
     ]
    }
   ],
   "source": [
    "logistic_company1.update_space(3500)"
   ]
  },
  {
   "cell_type": "code",
   "execution_count": 37,
   "metadata": {},
   "outputs": [
    {
     "name": "stdout",
     "output_type": "stream",
     "text": [
      "The company name is LogVom and was founded in 1990. The founder of the company is Laura McCartey. Company slogan: There is no space we cannot reach. Inventory space of the company:3500 \n"
     ]
    }
   ],
   "source": [
    "logistic_company1.print_report()"
   ]
  },
  {
   "cell_type": "code",
   "execution_count": 53,
   "metadata": {},
   "outputs": [],
   "source": [
    "class Trading():\n",
    "    def __init__(self,company_name,foundation_year,founder_name,company_slogan,sales,expenses,revenue):\n",
    "        self.company_name=company_name\n",
    "        self.foundation_year=foundation_year\n",
    "        self.founder_name=founder_name\n",
    "        self.company_slogan=company_slogan\n",
    "        self.sales=sales\n",
    "        self.expenses=expenses\n",
    "        self.revenue=revenue\n",
    "    def print_report(self):\n",
    "        print(f\"The company name is{self.company_name} and was founded in {self.foundation_year}. The founder of the company is {self.foundation_year}. The company slogan {self.company_slogan}. Total sales: {self.sales}. Total revenue: {self.revenue} \")\n",
    "    def update_sales_and_expenses(self,new_sales,new_expenses):\n",
    "        self.sales+=new_sales\n",
    "        self.expenses+=new_expenses\n",
    "        print(\"Sales and expenses are updated!\")\n",
    "    def calculate_revenue(self):\n",
    "        self.revenue=self.sales-self.expenses\n",
    "        print(f\"The revenue of the company is: {self.revenue} \")"
   ]
  },
  {
   "cell_type": "code",
   "execution_count": 54,
   "metadata": {},
   "outputs": [],
   "source": [
    "treding_company1=Trading(\"TraCom\",2005,\"Chog Wu\",\"We revelutionize tracking\",500,2000,5000)"
   ]
  },
  {
   "cell_type": "code",
   "execution_count": 55,
   "metadata": {},
   "outputs": [
    {
     "name": "stdout",
     "output_type": "stream",
     "text": [
      "Sales and expenses are updated!\n"
     ]
    }
   ],
   "source": [
    "treding_company1.update_sales_and_expenses(100,50)"
   ]
  },
  {
   "cell_type": "code",
   "execution_count": 57,
   "metadata": {},
   "outputs": [
    {
     "name": "stdout",
     "output_type": "stream",
     "text": [
      "The revenue of the company is: -1450 \n"
     ]
    }
   ],
   "source": [
    "a=treding_company1.calculate_revenue()"
   ]
  },
  {
   "cell_type": "code",
   "execution_count": 58,
   "metadata": {},
   "outputs": [],
   "source": [
    "a"
   ]
  }
 ],
 "metadata": {
  "kernelspec": {
   "display_name": "Python 3.10.7 64-bit",
   "language": "python",
   "name": "python3"
  },
  "language_info": {
   "codemirror_mode": {
    "name": "ipython",
    "version": 3
   },
   "file_extension": ".py",
   "mimetype": "text/x-python",
   "name": "python",
   "nbconvert_exporter": "python",
   "pygments_lexer": "ipython3",
   "version": "3.10.7"
  },
  "orig_nbformat": 4,
  "vscode": {
   "interpreter": {
    "hash": "e0b44264181467635ea2bc6f47fe90068c9b6f8f6719ab5749f6d45e7317ca04"
   }
  }
 },
 "nbformat": 4,
 "nbformat_minor": 2
}

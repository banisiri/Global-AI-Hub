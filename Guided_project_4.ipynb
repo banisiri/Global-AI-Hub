{
  "cells": [
    {
      "cell_type": "markdown",
      "metadata": {
        "id": "QkcKMNzWAbg7"
      },
      "source": [
        "#Chapter 4 \n",
        "##NumPy\n",
        "\n",
        "Rachel is very happy with the way you cleaned and structured the employee data last time, but she wants to take things one step further. The sales team wants to track the performance of the employees not only by the revenue they generated, but also taking the number of calls and the average deal size into account. For that, Rachel wants you to create a software for reporting. To be able to perform calculations on the data you decide that creating a data structure using Numpy will be best."
      ]
    },
    {
      "cell_type": "markdown",
      "metadata": {
        "id": "LWlWyFTek4PO"
      },
      "source": [
        "### Get the data\n",
        "\n",
        "First, you need to get the data. You created lists with the relevant information in the last chapter.\n",
        "\n",
        "📌 Copy and paste the lists \"names\", \"call_numbers\", \"average_deal_size\", and \"revenues\" you created in chapter 3 and assign them to variables."
      ]
    },
    {
      "cell_type": "code",
      "execution_count": 25,
      "metadata": {
        "id": "XtkCWxs4lGyX"
      },
      "outputs": [],
      "source": [
        "#Copy the lists \"names\", \"call_numbers\", \"average_deal_size\", and \"revenues\" from chapter 3\n",
        "names=[\"Ben\",\"Omer\",\"Karen\",\"Caline\",\"Sue\",\"Bora\",\"Rose\",\"Ellen\",\"Bob\",\"Tylor\",\"Jude\"]\n",
        "call_numbers=[300,10,500,70,100,100,600,800,200,450,80]\n",
        "average_deal_sizes=[8,6,24,32,5,25,25,40,15,10,12]\n",
        "revenues=[2400,60,12000,2275,500,770,4000,6000,800,1200,500]"
      ]
    },
    {
      "cell_type": "markdown",
      "metadata": {
        "id": "Ge6Rw3bkA1nq"
      },
      "source": [
        "### Importing NumPy\n",
        "\n",
        "You plan to create a data structure using NumPy.\n",
        "\n",
        "📌 Import the NumPy library as."
      ]
    },
    {
      "cell_type": "code",
      "execution_count": 26,
      "metadata": {
        "id": "bkJKAysX41P0"
      },
      "outputs": [],
      "source": [
        "#Import the NumPy library\n",
        "import numpy as np"
      ]
    },
    {
      "cell_type": "markdown",
      "metadata": {
        "id": "V_RyXQRPDKDX"
      },
      "source": [
        "###Creating an initial (base) arrays\n",
        "\n",
        "Next, you need to prepare an array in which you will store the values. The initial array will be empty. Since it will hold numerical data, the data type should be integer.\n",
        "\n",
        "📌 Create an empty array using .array(). \n",
        "\n",
        "📌 Use the *dtype* parameter to specify the data type."
      ]
    },
    {
      "cell_type": "code",
      "execution_count": 27,
      "metadata": {
        "id": "rhn8VLL5F1io"
      },
      "outputs": [],
      "source": [
        "#Create an empty array with the data type integer\n",
        "data=np.array([],dtype=int)"
      ]
    },
    {
      "cell_type": "markdown",
      "metadata": {
        "id": "RTg7VcXco1pB"
      },
      "source": [
        "###Functions to add the data\n",
        "\n",
        "Now that your empty array is ready, you need to transfer the data from the lists to the array. You create 2 functions functions for this. \n",
        "\n",
        "1. append_names function: A function that takes the \"names\" list and adds the index of each name to the \"data\" array.\n",
        "\n",
        "  📌 Use a for loop and the .append() method for the indexes.\n",
        "\n",
        "2. append_performance_measures function: A function that takes one of the remaining lists to add the sales performance data like number of calls, average deal size and revenue to the \"data\" array.\n",
        "\n",
        "  📌 Use the .append() method."
      ]
    },
    {
      "cell_type": "code",
      "execution_count": 28,
      "metadata": {
        "id": "aFt18Yn_Ai48"
      },
      "outputs": [],
      "source": [
        "#Define the append_names function\n",
        "def append_names(names_list):\n",
        "    global data\n",
        "    for i in names_list:\n",
        "        data=np.append(data,names.index(i))"
      ]
    },
    {
      "cell_type": "code",
      "execution_count": 29,
      "metadata": {
        "id": "XZ0xJEnqUCt6"
      },
      "outputs": [],
      "source": [
        "#Define the append_performance_measures function\n",
        "def append_performance_measures(feature_list):\n",
        "    global data\n",
        "    data=np.append(data,feature_list)"
      ]
    },
    {
      "cell_type": "markdown",
      "metadata": {
        "id": "JEQ_Il_JFPJR"
      },
      "source": [
        "Call the functions to add the data to the array and print the array and its shape to see the result.\n",
        "\n",
        "📌 Use the .shape() method."
      ]
    },
    {
      "cell_type": "code",
      "execution_count": 30,
      "metadata": {
        "id": "eknqraz75Qj9"
      },
      "outputs": [
        {
          "data": {
            "text/plain": [
              "(array([    0,     1,     2,     3,     4,     5,     6,     7,     8,\n",
              "            9,    10,   300,    10,   500,    70,   100,   100,   600,\n",
              "          800,   200,   450,    80,     8,     6,    24,    32,     5,\n",
              "           25,    25,    40,    15,    10,    12,  2400,    60, 12000,\n",
              "         2275,   500,   770,  4000,  6000,   800,  1200,   500]),\n",
              " (44,))"
            ]
          },
          "execution_count": 30,
          "metadata": {},
          "output_type": "execute_result"
        }
      ],
      "source": [
        "#Use the append_names and append_sales_performance_measures to add the data\n",
        "\n",
        "append_names(names)\n",
        "append_performance_measures(call_numbers)\n",
        "append_performance_measures(average_deal_sizes)\n",
        "append_performance_measures(revenues)\n",
        "#Print the array and its shape to see the result\n",
        "data, data.shape"
      ]
    },
    {
      "cell_type": "markdown",
      "metadata": {
        "id": "PrHY03X6C94s"
      },
      "source": [
        "###Reshape the array\n",
        "\n",
        "But like this, your array is not very structured. You need a 2D-array to be able to work better with it. The original data was 4 lists each with 11 values. So, the \"data\" array should have 4 rows and 11 columns. Print the result afterwards.\n",
        "\n",
        "📌 Use the .reshape() method to rearrange the values in the array.\n"
      ]
    },
    {
      "cell_type": "code",
      "execution_count": 31,
      "metadata": {
        "id": "__2N4NZB5k3Q"
      },
      "outputs": [
        {
          "data": {
            "text/plain": [
              "(array([[    0,     1,     2,     3,     4,     5,     6,     7,     8,\n",
              "             9,    10],\n",
              "        [  300,    10,   500,    70,   100,   100,   600,   800,   200,\n",
              "           450,    80],\n",
              "        [    8,     6,    24,    32,     5,    25,    25,    40,    15,\n",
              "            10,    12],\n",
              "        [ 2400,    60, 12000,  2275,   500,   770,  4000,  6000,   800,\n",
              "          1200,   500]]),\n",
              " (4, 11))"
            ]
          },
          "execution_count": 31,
          "metadata": {},
          "output_type": "execute_result"
        }
      ],
      "source": [
        "#Use the .reshape() method to change the array structure to 4 rows and 11 columns\n",
        "data = data.reshape(4,11)\n",
        "\n",
        "#Print the resulting array and its shape\n",
        "data, data.shape"
      ]
    },
    {
      "cell_type": "markdown",
      "metadata": {
        "id": "-JgrV_l7MIwQ"
      },
      "source": [
        "###Accessing values\n",
        "\n",
        "Inside the array you can access the values in different ways. \n",
        "\n",
        "1. Print each row separately. \n",
        "\n",
        "  📌 Write down the array name and the index of the row you want to access.\n"
      ]
    },
    {
      "cell_type": "code",
      "execution_count": 32,
      "metadata": {
        "id": "7IwKRbzORnjA"
      },
      "outputs": [
        {
          "data": {
            "text/plain": [
              "array([ 0,  1,  2,  3,  4,  5,  6,  7,  8,  9, 10])"
            ]
          },
          "execution_count": 32,
          "metadata": {},
          "output_type": "execute_result"
        }
      ],
      "source": [
        "#Print the name indexes\n",
        "data[0]"
      ]
    },
    {
      "cell_type": "code",
      "execution_count": 33,
      "metadata": {
        "id": "4TZ-6AI3AJ3k"
      },
      "outputs": [],
      "source": [
        "#Print the number of calls\n",
        "a=data[1]"
      ]
    },
    {
      "cell_type": "code",
      "execution_count": 34,
      "metadata": {
        "id": "6AwKKNcVP-Z4"
      },
      "outputs": [
        {
          "data": {
            "text/plain": [
              "array([ 8,  6, 24, 32,  5, 25, 25, 40, 15, 10, 12])"
            ]
          },
          "execution_count": 34,
          "metadata": {},
          "output_type": "execute_result"
        }
      ],
      "source": [
        "#Print the average deal sizes\n",
        "data[2]"
      ]
    },
    {
      "cell_type": "code",
      "execution_count": 35,
      "metadata": {
        "id": "A0XcKZpKQRnI"
      },
      "outputs": [
        {
          "data": {
            "text/plain": [
              "array([ 2400,    60, 12000,  2275,   500,   770,  4000,  6000,   800,\n",
              "        1200,   500])"
            ]
          },
          "execution_count": 35,
          "metadata": {},
          "output_type": "execute_result"
        }
      ],
      "source": [
        "#Print the revenues \n",
        "data[3]"
      ]
    },
    {
      "cell_type": "markdown",
      "metadata": {
        "id": "vwggtzzeAuGX"
      },
      "source": [
        "2. Print a specific value.\n",
        "\n",
        "  📌 Give the index of the row and the column of the value you want to access.\n",
        "  For example, to get the revenue generated by Ellen, specify the value in the 3rd row and 7th column."
      ]
    },
    {
      "cell_type": "code",
      "execution_count": 36,
      "metadata": {
        "id": "qkHN7yCiSs7z"
      },
      "outputs": [
        {
          "data": {
            "text/plain": [
              "6000"
            ]
          },
          "execution_count": 36,
          "metadata": {},
          "output_type": "execute_result"
        }
      ],
      "source": [
        "#Print the revenue generated by Ellen\n",
        "data[3,7]"
      ]
    },
    {
      "cell_type": "markdown",
      "metadata": {
        "id": "HpcNsSjVVJ76"
      },
      "source": [
        "###Analyzing the data\n",
        "\n",
        "Great, your array is ready!\n",
        "\n",
        "The sales team has a formula that they use to calculate the performance score of an employee.\n",
        "\n",
        "\n",
        "\\begin{align}\n",
        "        \\text{Performance} = \\frac{\\text{Average deal size x Revenue}}{\\text{Number of calls}}\n",
        "    \\end{align}\n",
        "\n",
        "\n",
        "📌 Create a function called “calculate_performance” to implement this formula. It should take the employee name as an input."
      ]
    },
    {
      "cell_type": "code",
      "execution_count": 37,
      "metadata": {
        "id": "UoB-hSG02lmJ"
      },
      "outputs": [],
      "source": [
        "#Define the function calculate_performance\n",
        "def calculate_performance(employee_name):\n",
        "    idx=names.index(employee_name)\n",
        "    number_of_calls=data[1,idx]\n",
        "    avg_deal_size=data[2,idx]\n",
        "    revenue=data[3,idx]\n",
        "\n",
        "    score=(avg_deal_size*revenue)/number_of_calls\n",
        "    return score"
      ]
    },
    {
      "cell_type": "markdown",
      "metadata": {
        "id": "BJp7Qgxv5cVX"
      },
      "source": [
        "###Try it out\n",
        "\n",
        "Let's check Ellen's performance score and print the result."
      ]
    },
    {
      "cell_type": "code",
      "execution_count": 38,
      "metadata": {
        "id": "kd2J09dg6n4i"
      },
      "outputs": [
        {
          "data": {
            "text/plain": [
              "300.0"
            ]
          },
          "execution_count": 38,
          "metadata": {},
          "output_type": "execute_result"
        }
      ],
      "source": [
        "#Use the calculate performance function to print Ellen's pe\n",
        "calculate_performance(\"Ellen\")"
      ]
    },
    {
      "cell_type": "markdown",
      "metadata": {
        "id": "4zUQIn2s7wwy"
      },
      "source": [
        "###Calculate the performance of each employee\n",
        "Now you need to calculate the performance score of each employee and add these scores to a list.\n",
        "\n",
        "📌 Create an empty list \"performance_scores\" to hold the scores.\n",
        "\n",
        "📌 Use a for loop to convert the scores into integer type data and append it to the list \"sperformance_scores\"."
      ]
    },
    {
      "cell_type": "code",
      "execution_count": 39,
      "metadata": {
        "id": "xTroGqo745AO"
      },
      "outputs": [],
      "source": [
        "#Calculate the performance of each employee\n",
        "performance_scores=[]\n",
        "for name in names:\n",
        "    score=int(calculate_performance(name))\n",
        "    performance_scores.append(score)"
      ]
    },
    {
      "cell_type": "markdown",
      "metadata": {
        "id": "JEjPMpP7FvOw"
      },
      "source": [
        "###Add the scores to the \"data\" array\n",
        "\n",
        "Next, you need to add the scores to your \"data\" array and print the result.\n",
        "\n",
        "📌 Use the .concatenate() method to add the \"performance_scores\" list to the \"data\" array. "
      ]
    },
    {
      "cell_type": "code",
      "execution_count": 40,
      "metadata": {
        "id": "zm4Zbzl9-1n-"
      },
      "outputs": [
        {
          "data": {
            "text/plain": [
              "array([[    0,     1,     2,     3,     4,     5,     6,     7,     8,\n",
              "            9,    10],\n",
              "       [  300,    10,   500,    70,   100,   100,   600,   800,   200,\n",
              "          450,    80],\n",
              "       [    8,     6,    24,    32,     5,    25,    25,    40,    15,\n",
              "           10,    12],\n",
              "       [ 2400,    60, 12000,  2275,   500,   770,  4000,  6000,   800,\n",
              "         1200,   500],\n",
              "       [   64,    36,   576,  1040,    25,   192,   166,   300,    60,\n",
              "           26,    75]])"
            ]
          },
          "execution_count": 40,
          "metadata": {},
          "output_type": "execute_result"
        }
      ],
      "source": [
        "#Add the \"performance_scores\" list to the \"data\" array\n",
        "data=np.concatenate((data,[performance_scores]),axis=0)\n",
        "\n",
        "#Print the resulting array\n",
        "data"
      ]
    },
    {
      "cell_type": "markdown",
      "metadata": {
        "id": "oWMMtqfDUZVs"
      },
      "source": [
        "###Find out the best and worst performing employees\n",
        "\n",
        "Finally, you need to determine the best and worst performing employees.\n",
        "\n",
        "📌 Use the .argmax() and .argmin() methods to find the index of the best and worst performing employees."
      ]
    },
    {
      "cell_type": "code",
      "execution_count": 41,
      "metadata": {
        "id": "58fNLhRsQ18I"
      },
      "outputs": [
        {
          "name": "stdout",
          "output_type": "stream",
          "text": [
            "Best perfroming employee: Caline \n",
            "Worst perfroming employee: Sue \n"
          ]
        }
      ],
      "source": [
        "#Use .argmax() and .argmin() methods to determine the best and worst performing employees\n",
        "idx_best_employee=np.argmax(data[4])\n",
        "idx_worst_employee=np.argmin(data[4])\n",
        "#Print out the results\n",
        "print(f\"Best perfroming employee: {names[idx_best_employee]} \")\n",
        "print(f\"Worst perfroming employee: {names[idx_worst_employee]} \")"
      ]
    }
  ],
  "metadata": {
    "colab": {
      "collapsed_sections": [],
      "name": "Guided_project_4_updated.ipynb",
      "provenance": []
    },
    "kernelspec": {
      "display_name": "Python 3.10.7 64-bit",
      "language": "python",
      "name": "python3"
    },
    "language_info": {
      "codemirror_mode": {
        "name": "ipython",
        "version": 3
      },
      "file_extension": ".py",
      "mimetype": "text/x-python",
      "name": "python",
      "nbconvert_exporter": "python",
      "pygments_lexer": "ipython3",
      "version": "3.10.7"
    },
    "vscode": {
      "interpreter": {
        "hash": "e0b44264181467635ea2bc6f47fe90068c9b6f8f6719ab5749f6d45e7317ca04"
      }
    }
  },
  "nbformat": 4,
  "nbformat_minor": 0
}

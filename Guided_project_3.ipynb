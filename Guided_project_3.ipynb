{
  "cells": [
    {
      "cell_type": "markdown",
      "id": "15177c1c",
      "metadata": {
        "id": "15177c1c"
      },
      "source": [
        "#Chapter 3: Data cleaning exercise\n",
        "\n",
        "### Sales department performance analysis\n",
        "\n",
        "The HR department wants to analyze the performance of the employees in the sales department.\n",
        "\n",
        "### Data Reading\n",
        "Rachel wrote a text file employee_revenue.txt including all necessary information, but she needs help to extract the necessary information.\n",
        "\n",
        "Start by uploading the employee_revenue file to the working directory.\n",
        "\n",
        "📌 Use the .read() method to open the text file in read mode and assign it to the variable \"data\".\n"
      ]
    },
    {
      "cell_type": "code",
      "execution_count": 1,
      "id": "da79a8da",
      "metadata": {
        "colab": {
          "base_uri": "https://localhost:8080/",
          "height": 17
        },
        "id": "da79a8da",
        "outputId": "de60b8cb-3977-4a43-df3a-4529cc28dfae"
      },
      "outputs": [],
      "source": [
        "#Open the file in read mode\n",
        "file=open(\"employee_revenue.txt\",\"r\")\n",
        "data=file.read()"
      ]
    },
    {
      "cell_type": "code",
      "execution_count": 2,
      "id": "75a5de52",
      "metadata": {
        "id": "75a5de52"
      },
      "outputs": [
        {
          "data": {
            "text/plain": [
              "'  Ben made 300 calls and generated 2400 dollars last Month with an 8$ average deal size.  \\nomer called 10 times and Sold 2 courses generated 60 dollars last month with a 6$ average deal size.\\n   KAren called 500 people and achieved success by GETting 24$ average deal size, got 12000 dollars revenue.     \\nCeline with 70 calls, made 2275 dollars and 32$ average deal size IN the previous month.  \\n     Sue called 100 people and earned 500 Dollars in REvenue and an AVERAGE DEAL SIZE of 5$ Last month.\\nBora called 100 people generated 770 dollars last month, his average deal size was 25$.  \\nRose made 600 phone calls and GENERATING 4000 dollars a past month 25$ average deal SIZE. \\nEllen made 800 calls and generated 6000 dollars a prior mONTH and reached 40$ the average deal size. \\n bob made 200 phone calls, helped to make a proGress and generated 800 dollars LAST MONTH and gaining 15$ average deal size.\\nTaylor, with 450 calls generated 1200 dollars in revenue pASt month, and the average deal size was 10$. \\n  JuDE made 80 calls and earned 500 dollars for the company last month, her average deal size was 12$.\\n'"
            ]
          },
          "execution_count": 2,
          "metadata": {},
          "output_type": "execute_result"
        }
      ],
      "source": [
        "#Print the data\n",
        "data"
      ]
    },
    {
      "cell_type": "markdown",
      "id": "33d4f7ef",
      "metadata": {
        "id": "33d4f7ef"
      },
      "source": [
        "### Data Cleaning\n",
        "\n",
        "You can see that the data needs to be cleaned and information has to be extracted from these lines. \n",
        "\n",
        "To be able to clean the data, you need to separate the text into lines.\n",
        "\n",
        "📌 Use the .splitlines() method."
      ]
    },
    {
      "cell_type": "code",
      "execution_count": 3,
      "id": "9a1a651d",
      "metadata": {
        "id": "9a1a651d"
      },
      "outputs": [
        {
          "data": {
            "text/plain": [
              "['  Ben made 300 calls and generated 2400 dollars last Month with an 8$ average deal size.  ',\n",
              " 'omer called 10 times and Sold 2 courses generated 60 dollars last month with a 6$ average deal size.',\n",
              " '   KAren called 500 people and achieved success by GETting 24$ average deal size, got 12000 dollars revenue.     ',\n",
              " 'Celine with 70 calls, made 2275 dollars and 32$ average deal size IN the previous month.  ',\n",
              " '     Sue called 100 people and earned 500 Dollars in REvenue and an AVERAGE DEAL SIZE of 5$ Last month.',\n",
              " 'Bora called 100 people generated 770 dollars last month, his average deal size was 25$.  ',\n",
              " 'Rose made 600 phone calls and GENERATING 4000 dollars a past month 25$ average deal SIZE. ',\n",
              " 'Ellen made 800 calls and generated 6000 dollars a prior mONTH and reached 40$ the average deal size. ',\n",
              " ' bob made 200 phone calls, helped to make a proGress and generated 800 dollars LAST MONTH and gaining 15$ average deal size.',\n",
              " 'Taylor, with 450 calls generated 1200 dollars in revenue pASt month, and the average deal size was 10$. ',\n",
              " '  JuDE made 80 calls and earned 500 dollars for the company last month, her average deal size was 12$.']"
            ]
          },
          "execution_count": 3,
          "metadata": {},
          "output_type": "execute_result"
        }
      ],
      "source": [
        "#Seperate the data into lines\n",
        "lines=data.splitlines()\n",
        "lines"
      ]
    },
    {
      "cell_type": "markdown",
      "id": "CKkeig2poz7w",
      "metadata": {
        "id": "CKkeig2poz7w"
      },
      "source": [
        "### Clean the data line by line\n",
        "\n",
        "Start to clean the data for the first line.\n",
        "\n",
        "📌 Use the .strip() method to remove the whitespaces from the edges of the string."
      ]
    },
    {
      "cell_type": "code",
      "execution_count": 4,
      "id": "2332622c",
      "metadata": {
        "id": "2332622c"
      },
      "outputs": [
        {
          "data": {
            "text/plain": [
              "'  Ben made 300 calls and generated 2400 dollars last Month with an 8$ average deal size.  '"
            ]
          },
          "execution_count": 4,
          "metadata": {},
          "output_type": "execute_result"
        }
      ],
      "source": [
        "#Take the first line\n",
        "string=lines[0]\n",
        "string"
      ]
    },
    {
      "cell_type": "code",
      "execution_count": 5,
      "id": "26219c0d",
      "metadata": {
        "id": "26219c0d"
      },
      "outputs": [
        {
          "data": {
            "text/plain": [
              "'Ben made 300 calls and generated 2400 dollars last Month with an 8$ average deal size.'"
            ]
          },
          "execution_count": 5,
          "metadata": {},
          "output_type": "execute_result"
        }
      ],
      "source": [
        "#Remove the whitespaces from the edges\n",
        "string=string.strip(\" \")\n",
        "string"
      ]
    },
    {
      "cell_type": "markdown",
      "id": "ed90bfc6",
      "metadata": {
        "id": "ed90bfc6"
      },
      "source": [
        "Next, you need to fix the capitalization issues.\n",
        "\n",
        "📌 Use the .lower() method to convert the text to lowercase.\n",
        "\n",
        "📌 Then use the .capitalize() method to capitalize the first letter."
      ]
    },
    {
      "cell_type": "code",
      "execution_count": 6,
      "id": "ef8bca74",
      "metadata": {
        "id": "ef8bca74"
      },
      "outputs": [
        {
          "data": {
            "text/plain": [
              "'ben made 300 calls and generated 2400 dollars last month with an 8$ average deal size.'"
            ]
          },
          "execution_count": 6,
          "metadata": {},
          "output_type": "execute_result"
        }
      ],
      "source": [
        "#Convert the string to lowercase\n",
        "string=string.lower()\n",
        "string"
      ]
    },
    {
      "cell_type": "code",
      "execution_count": 7,
      "id": "d4be9443",
      "metadata": {
        "id": "d4be9443"
      },
      "outputs": [
        {
          "data": {
            "text/plain": [
              "'Ben made 300 calls and generated 2400 dollars last month with an 8$ average deal size.'"
            ]
          },
          "execution_count": 7,
          "metadata": {},
          "output_type": "execute_result"
        }
      ],
      "source": [
        "#Capitalize the first character\n",
        "string=string.capitalize()\n",
        "string"
      ]
    },
    {
      "cell_type": "markdown",
      "id": "f89b01c4",
      "metadata": {
        "id": "f89b01c4"
      },
      "source": [
        "### Information Extraction\n",
        "\n",
        "To extract the information, you need to split the sentence into words. \n",
        "\n",
        "📌 Use the .split() method.\n"
      ]
    },
    {
      "cell_type": "code",
      "execution_count": 8,
      "id": "04ede2fd",
      "metadata": {
        "id": "04ede2fd"
      },
      "outputs": [
        {
          "data": {
            "text/plain": [
              "['Ben',\n",
              " 'made',\n",
              " '300',\n",
              " 'calls',\n",
              " 'and',\n",
              " 'generated',\n",
              " '2400',\n",
              " 'dollars',\n",
              " 'last',\n",
              " 'month',\n",
              " 'with',\n",
              " 'an',\n",
              " '8$',\n",
              " 'average',\n",
              " 'deal',\n",
              " 'size.']"
            ]
          },
          "execution_count": 8,
          "metadata": {},
          "output_type": "execute_result"
        }
      ],
      "source": [
        "#Split the sentece into words\n",
        "split_string=string.split(\" \")\n",
        "split_string"
      ]
    },
    {
      "cell_type": "markdown",
      "id": "9138eb5b",
      "metadata": {
        "id": "9138eb5b"
      },
      "source": [
        "You might noticed that the first element in the list is the name and the third element is the number of calls.\n",
        "\n",
        "📌 Use the indeces to extract the name and number of calls."
      ]
    },
    {
      "cell_type": "code",
      "execution_count": 10,
      "id": "897c59e5",
      "metadata": {
        "id": "897c59e5"
      },
      "outputs": [
        {
          "data": {
            "text/plain": [
              "'Ben'"
            ]
          },
          "execution_count": 10,
          "metadata": {},
          "output_type": "execute_result"
        }
      ],
      "source": [
        "#Use the index 0 to access the name element\n",
        "name=split_string[0]\n",
        "name"
      ]
    },
    {
      "cell_type": "code",
      "execution_count": 11,
      "id": "98103332",
      "metadata": {
        "id": "98103332"
      },
      "outputs": [
        {
          "data": {
            "text/plain": [
              "'300'"
            ]
          },
          "execution_count": 11,
          "metadata": {},
          "output_type": "execute_result"
        }
      ],
      "source": [
        "#Use the index 2 to access the number of calls element\n",
        "call_number=split_string[2]\n",
        "call_number"
      ]
    },
    {
      "cell_type": "markdown",
      "id": "etif7Kb3tEUC",
      "metadata": {
        "id": "etif7Kb3tEUC"
      },
      "source": [
        "So far so good!\n",
        "\n",
        "But as you can see the sentence order is not the same after the 7th element.\n",
        "\n",
        "To extract the average deal size you need to come up with a different approach. You can use the \"$\" sign to find the corresponding element.\n",
        "\n",
        "📌 Loop over the list to find the element that includes the \"$\" sign.\n",
        "\n",
        "📌 Then, use the .split() method to divide the string into the number and the $ sign."
      ]
    },
    {
      "cell_type": "code",
      "execution_count": 13,
      "id": "443a9ddf",
      "metadata": {
        "id": "443a9ddf"
      },
      "outputs": [
        {
          "data": {
            "text/plain": [
              "'8'"
            ]
          },
          "execution_count": 13,
          "metadata": {},
          "output_type": "execute_result"
        }
      ],
      "source": [
        "#Find the element with the \"$\" sign\n",
        "for i in split_string:\n",
        "  if \"$\" in i:\n",
        "    avarage_deal_size=i.split(\"$\")[0]\n",
        "  #Divide the number from it\n",
        "\n",
        "#Print the average deal size\n",
        "avarage_deal_size"
      ]
    },
    {
      "cell_type": "markdown",
      "id": "1332df7e",
      "metadata": {
        "id": "1332df7e"
      },
      "source": [
        "Similarly, we can use the string \"dollars\" to extract the revenue, which is the element right before \"dollars\".\n",
        "\n",
        "📌 Use the .index() method to identify the index for the \"dollars\" element.\n",
        "\n",
        "📌 Then, use this index to specify and extract the revenue."
      ]
    },
    {
      "cell_type": "code",
      "execution_count": 14,
      "id": "a00945b0",
      "metadata": {
        "id": "a00945b0"
      },
      "outputs": [
        {
          "data": {
            "text/plain": [
              "7"
            ]
          },
          "execution_count": 14,
          "metadata": {},
          "output_type": "execute_result"
        }
      ],
      "source": [
        "#Find the index of element \"dollars\"\n",
        "\n",
        "dollars_index=split_string.index(\"dollars\")\n",
        "dollars_index"
      ]
    },
    {
      "cell_type": "code",
      "execution_count": 16,
      "id": "c663bd03",
      "metadata": {
        "id": "c663bd03"
      },
      "outputs": [
        {
          "data": {
            "text/plain": [
              "6"
            ]
          },
          "execution_count": 16,
          "metadata": {},
          "output_type": "execute_result"
        }
      ],
      "source": [
        "#Subtract one from the index to identify the index of the revenue element\n",
        "revenue_index=dollars_index-1\n",
        "revenue_index"
      ]
    },
    {
      "cell_type": "code",
      "execution_count": 17,
      "id": "2831e072",
      "metadata": {
        "id": "2831e072"
      },
      "outputs": [
        {
          "data": {
            "text/plain": [
              "'2400'"
            ]
          },
          "execution_count": 17,
          "metadata": {},
          "output_type": "execute_result"
        }
      ],
      "source": [
        "#Extract the revenue\n",
        "revenue=split_string[revenue_index]\n",
        "revenue"
      ]
    },
    {
      "cell_type": "markdown",
      "id": "537ed4c2",
      "metadata": {
        "id": "537ed4c2"
      },
      "source": [
        "Great! You extracted all necessary information.\n",
        "\n",
        "📌 Print the information and check the types of the data."
      ]
    },
    {
      "cell_type": "code",
      "execution_count": 18,
      "id": "ace2c99f",
      "metadata": {
        "id": "ace2c99f"
      },
      "outputs": [
        {
          "name": "stdout",
          "output_type": "stream",
          "text": [
            "name Ben\n",
            "number of calls 300\n",
            "Avarage deal size 8\n",
            "Revenue 2400\n"
          ]
        },
        {
          "data": {
            "text/plain": [
              "(None, None, None, None)"
            ]
          },
          "execution_count": 18,
          "metadata": {},
          "output_type": "execute_result"
        }
      ],
      "source": [
        "#Print out the extracted information\n",
        "print(\"name\",name),print(\"number of calls\",call_number),print(\"Avarage deal size\",avarage_deal_size),print(\"Revenue\",revenue)"
      ]
    },
    {
      "cell_type": "code",
      "execution_count": 19,
      "id": "SwAyLOAInasY",
      "metadata": {
        "id": "SwAyLOAInasY"
      },
      "outputs": [
        {
          "name": "stdout",
          "output_type": "stream",
          "text": [
            "name <class 'str'>\n",
            "number of calls <class 'str'>\n",
            "Avarage deal size <class 'str'>\n",
            "Revenue <class 'str'>\n"
          ]
        },
        {
          "data": {
            "text/plain": [
              "(None, None, None, None)"
            ]
          },
          "execution_count": 19,
          "metadata": {},
          "output_type": "execute_result"
        }
      ],
      "source": [
        "#Check the types\n",
        "print(\"name\",type(name)),print(\"number of calls\",type(call_number)),print(\"Avarage deal size\",type(avarage_deal_size)),print(\"Revenue\",type(revenue))"
      ]
    },
    {
      "cell_type": "markdown",
      "id": "08f5b5fd",
      "metadata": {
        "id": "08f5b5fd"
      },
      "source": [
        "As you can see, we have the type string for all the data, but the average deal size, number of calls, and the revenue need to be integers. \n",
        "\n",
        "📌 Convert the data using the int() function and check again."
      ]
    },
    {
      "cell_type": "code",
      "execution_count": 20,
      "id": "5f42e3f0",
      "metadata": {
        "colab": {
          "base_uri": "https://localhost:8080/",
          "height": 17
        },
        "id": "5f42e3f0",
        "outputId": "acab915b-2771-4de7-aad1-093b39f4b058"
      },
      "outputs": [],
      "source": [
        "#Convert the datatypes of average deal size, number of calls, and revenue\n",
        "call_number=int(call_number)\n",
        "avarage_deal_size=int(avarage_deal_size)\n",
        "revenue=int(revenue)"
      ]
    },
    {
      "cell_type": "code",
      "execution_count": 21,
      "id": "89dc6fa1",
      "metadata": {
        "id": "89dc6fa1"
      },
      "outputs": [
        {
          "name": "stdout",
          "output_type": "stream",
          "text": [
            "name <class 'str'>\n",
            "number of calls <class 'int'>\n",
            "Avarage deal size <class 'int'>\n",
            "Revenue <class 'int'>\n"
          ]
        },
        {
          "data": {
            "text/plain": [
              "(None, None, None, None)"
            ]
          },
          "execution_count": 21,
          "metadata": {},
          "output_type": "execute_result"
        }
      ],
      "source": [
        "#Print out the information again\n",
        "print(\"name\",type(name)),print(\"number of calls\",type(call_number)),print(\"Avarage deal size\",type(avarage_deal_size)),print(\"Revenue\",type(revenue))"
      ]
    },
    {
      "cell_type": "markdown",
      "id": "0b194713",
      "metadata": {
        "id": "0b194713"
      },
      "source": [
        "Now, you need to apply all the methods and functions to the list that contains the different strings of all employees.\n",
        "\n",
        "📌 Create an empty lists for storing names, number of calls, average deal sizes, and revenues.\n",
        "\n",
        "📌 Use a for loop to iterate through the list with the whole data.\n",
        "\n",
        "📌 Print out the necessary information."
      ]
    },
    {
      "cell_type": "code",
      "execution_count": 23,
      "id": "5a4aab7e",
      "metadata": {
        "id": "5a4aab7e"
      },
      "outputs": [],
      "source": [
        "#Create empty lists for the names, number of calls, average deal sizes, revenues\n",
        "names=[]\n",
        "call_numbers=[]\n",
        "avarage_deal_sizes=[]\n",
        "revenues=[]"
      ]
    },
    {
      "cell_type": "code",
      "execution_count": 24,
      "id": "2366069b",
      "metadata": {
        "id": "2366069b"
      },
      "outputs": [
        {
          "name": "stdout",
          "output_type": "stream",
          "text": [
            "Names: ['Ben', 'Omer', 'Karen', 'Celine', 'Sue', 'Bora', 'Rose', 'Ellen', 'Bob', 'Taylor,', 'Jude']\n",
            "Number of calls  80\n",
            "Avarage deal sizes: 8\n",
            "Revenues [2400, 60, 12000, 2275, 500, 770, 4000, 6000, 800, 1200, 500]\n"
          ]
        },
        {
          "data": {
            "text/plain": [
              "(None, None, None, None)"
            ]
          },
          "execution_count": 24,
          "metadata": {},
          "output_type": "execute_result"
        }
      ],
      "source": [
        "for employee in lines:\n",
        "    employee=employee.strip(\" \")\n",
        "    employee=employee.lower()\n",
        "    employee=employee.capitalize()\n",
        "\n",
        "    split_employee=employee.split(\" \")\n",
        "\n",
        "    name=split_employee[0]\n",
        "    call_number=split_employee[2]\n",
        "\n",
        "    for i in split_employee:\n",
        "        if \"$\" in i:\n",
        "            average_deal_size=i\n",
        "    average_deal_size=average_deal_size.split(\"$\")[0]\n",
        "\n",
        "    dollars_index=split_employee.index(\"dollars\")\n",
        "    revenue_index=dollars_index-1\n",
        "    revenue=split_employee[revenue_index]\n",
        "\n",
        "    average_deal_size=int(average_deal_size)\n",
        "    call_number=int(call_number)\n",
        "    revenue=int(revenue)\n",
        "\n",
        "    names.append(name)\n",
        "    call_numbers.append(call_number)\n",
        "    avarage_deal_sizes.append(avarage_deal_size)\n",
        "    revenues.append(revenue)\n",
        "\n",
        "print(\"Names:\",names),print(\"Number of calls \",call_number),print(\"Avarage deal sizes:\",avarage_deal_size),print(\"Revenues\",revenues)"
      ]
    },
    {
      "cell_type": "markdown",
      "id": "4d848787",
      "metadata": {
        "id": "4d848787"
      },
      "source": [
        "Finally, you can make the process even easier and reusable by defining functions.\n",
        "\n",
        "📌 Define the function \"clean_extract\".\n",
        "\n",
        "📌 Use the retured values by assigning them to variables."
      ]
    },
    {
      "cell_type": "code",
      "execution_count": null,
      "id": "_ipfpGrirCs7",
      "metadata": {
        "colab": {
          "base_uri": "https://localhost:8080/",
          "height": 17
        },
        "id": "_ipfpGrirCs7",
        "outputId": "5c4f5ebd-b114-4b61-e332-49cc94d13f25"
      },
      "outputs": [],
      "source": [
        "#Create empty lists again\n",
        "names=[]\n",
        "call_numbers=[]\n",
        "avarage_deal_sizes=[]\n",
        "revenues=[]"
      ]
    },
    {
      "cell_type": "code",
      "execution_count": 25,
      "id": "tnFT5Fk2qu_x",
      "metadata": {
        "id": "tnFT5Fk2qu_x"
      },
      "outputs": [],
      "source": [
        "#Define a function to clean and extract the data\n",
        "def clean_extract(lines):\n",
        "    for employee in lines:\n",
        "        employee=employee.strip(\" \")\n",
        "        employee=employee.lower()\n",
        "        employee=employee.capitalize()\n",
        "        split_employee=employee.split(\" \")\n",
        "        split_employee=employee.split(\" \")\n",
        "\n",
        "        name=split_employee[0]\n",
        "        call_number=split_employee[2]\n",
        "        for i in split_employee:\n",
        "            if \"$\" in i:\n",
        "                average_deal_size=i\n",
        "        average_deal_size=average_deal_size.split(\"$\")[0]\n",
        "        dollars_index=split_employee.index(\"dollars\")\n",
        "        revenue_index=dollars_index-1\n",
        "        revenue=split_employee[revenue_index]\n",
        "\n",
        "        average_deal_size=int(average_deal_size)\n",
        "        call_number=int(call_number)\n",
        "        revenue=int(revenue)\n",
        "\n",
        "        names.append(name)\n",
        "        call_numbers.append(call_number)\n",
        "        avarage_deal_sizes.append(avarage_deal_size)\n",
        "        revenues.append(revenue)\n",
        "    return names, call_numbers, avarage_deal_sizes, revenues"
      ]
    },
    {
      "cell_type": "code",
      "execution_count": 28,
      "id": "13b0fe6b",
      "metadata": {
        "id": "13b0fe6b"
      },
      "outputs": [],
      "source": [
        "#Assign returned values to variables\n",
        "names, call_numbers, avarage_deal_sizes, revenues = clean_extract(lines)"
      ]
    },
    {
      "cell_type": "code",
      "execution_count": 29,
      "id": "44e38957",
      "metadata": {
        "id": "44e38957"
      },
      "outputs": [
        {
          "name": "stdout",
          "output_type": "stream",
          "text": [
            "Names: ['Ben', 'Omer', 'Karen', 'Celine', 'Sue', 'Bora', 'Rose', 'Ellen', 'Bob', 'Taylor,', 'Jude', 'Ben', 'Omer', 'Karen', 'Celine', 'Sue', 'Bora', 'Rose', 'Ellen', 'Bob', 'Taylor,', 'Jude']\n",
            "Number of calls: [300, 10, 500, 70, 100, 100, 600, 800, 200, 450, 80, 300, 10, 500, 70, 100, 100, 600, 800, 200, 450, 80]\n",
            "Average deal sizes: 12\n",
            "Revenues: [2400, 60, 12000, 2275, 500, 770, 4000, 6000, 800, 1200, 500, 2400, 60, 12000, 2275, 500, 770, 4000, 6000, 800, 1200, 500]\n"
          ]
        },
        {
          "data": {
            "text/plain": [
              "(None, None, None, None)"
            ]
          },
          "execution_count": 29,
          "metadata": {},
          "output_type": "execute_result"
        }
      ],
      "source": [
        "#Print out the information\n",
        "print(\"Names:\",names),print(\"Number of calls:\",call_numbers),print(\"Average deal sizes:\",average_deal_size),print(\"Revenues:\",revenues)"
      ]
    },
    {
      "cell_type": "markdown",
      "id": "26efe652",
      "metadata": {
        "id": "26efe652"
      },
      "source": [
        "### Performance Analysis Report\n",
        "\n",
        "Now that you cleaned the string and extracted all the information using the function, you can create performance analysis report for the last month.\n",
        "\n",
        "📌 Assign IDs to each employee.\n",
        "\n",
        "📌 Create dictionaries.\n",
        "\n",
        "📌 Sort the dictionaries.\n",
        "\n",
        "\n"
      ]
    },
    {
      "cell_type": "markdown",
      "id": "ZT7mAK3M5k3W",
      "metadata": {
        "id": "ZT7mAK3M5k3W"
      },
      "source": [
        "First, check how many employees there are and assign the IDs.\n",
        "\n",
        "📌 Use the len() and range() function.\n"
      ]
    },
    {
      "cell_type": "code",
      "execution_count": 30,
      "id": "f20ff52f",
      "metadata": {
        "id": "f20ff52f"
      },
      "outputs": [
        {
          "name": "stdout",
          "output_type": "stream",
          "text": [
            "22\n"
          ]
        }
      ],
      "source": [
        "#Check the number of employees\n",
        "print(len(names))"
      ]
    },
    {
      "cell_type": "code",
      "execution_count": 31,
      "id": "5c62caf8",
      "metadata": {
        "id": "5c62caf8"
      },
      "outputs": [
        {
          "data": {
            "text/plain": [
              "[0, 1, 2, 3, 4, 5, 6, 7, 8, 9, 10]"
            ]
          },
          "execution_count": 31,
          "metadata": {},
          "output_type": "execute_result"
        }
      ],
      "source": [
        "#Generate IDs\n",
        "IDs=list(range(0,11))\n",
        "IDs"
      ]
    },
    {
      "cell_type": "code",
      "execution_count": 32,
      "id": "28cd8ce6",
      "metadata": {
        "id": "28cd8ce6"
      },
      "outputs": [
        {
          "data": {
            "text/plain": [
              "11"
            ]
          },
          "execution_count": 32,
          "metadata": {},
          "output_type": "execute_result"
        }
      ],
      "source": [
        "#Check the number of IDs\n",
        "len(IDs)"
      ]
    },
    {
      "cell_type": "markdown",
      "id": "NKP6Yoto6eqP",
      "metadata": {
        "id": "NKP6Yoto6eqP"
      },
      "source": [
        "With the IDs ready, you need to assign the IDs to the employees.\n",
        "\n",
        "📌 Use the zip() function to pair the employee with the ID.\n",
        "\n",
        "📌 Convert the zip object into a dictionary."
      ]
    },
    {
      "cell_type": "code",
      "execution_count": 39,
      "id": "7e56a43f",
      "metadata": {
        "id": "7e56a43f"
      },
      "outputs": [
        {
          "data": {
            "text/plain": [
              "dict"
            ]
          },
          "execution_count": 39,
          "metadata": {},
          "output_type": "execute_result"
        }
      ],
      "source": [
        "#Pair the names with the IDs in a dictionary\n",
        "dictionary1=dict(zip(IDs,names))\n",
        "type(dictionary1)"
      ]
    },
    {
      "cell_type": "markdown",
      "id": "429d7b7f",
      "metadata": {
        "id": "429d7b7f"
      },
      "source": [
        "Similarly, create a dictionary for the  employees and their revenues."
      ]
    },
    {
      "cell_type": "code",
      "execution_count": 35,
      "id": "aa2c6560",
      "metadata": {
        "id": "aa2c6560"
      },
      "outputs": [
        {
          "data": {
            "text/plain": [
              "{2400: 'Ben',\n",
              " 60: 'Omer',\n",
              " 12000: 'Karen',\n",
              " 2275: 'Celine',\n",
              " 500: 'Jude',\n",
              " 770: 'Bora',\n",
              " 4000: 'Rose',\n",
              " 6000: 'Ellen',\n",
              " 800: 'Bob',\n",
              " 1200: 'Taylor,'}"
            ]
          },
          "execution_count": 35,
          "metadata": {},
          "output_type": "execute_result"
        }
      ],
      "source": [
        "#Pair the names with the revenues\n",
        "dictionary2=dict(zip(revenues,names))\n",
        "dictionary2"
      ]
    },
    {
      "cell_type": "markdown",
      "id": "Ou3ne5Vn76N_",
      "metadata": {
        "id": "Ou3ne5Vn76N_"
      },
      "source": [
        "Finally, you need to find the employees with the best and lowest performance.\n",
        "\n",
        "📌 Sort the dictionary using the sorted() function in ascending and descending order.\n"
      ]
    },
    {
      "cell_type": "code",
      "execution_count": 37,
      "id": "d348a929",
      "metadata": {
        "id": "d348a929"
      },
      "outputs": [
        {
          "name": "stdout",
          "output_type": "stream",
          "text": [
            "Omer\n",
            "Jude\n",
            "Bora\n"
          ]
        }
      ],
      "source": [
        "#Find the lowest performing employees (ascending order)\n",
        "sorted_dictionary=sorted(dictionary2)[0:3]\n",
        "for i in sorted_dictionary:\n",
        "    print(dictionary2[i])"
      ]
    },
    {
      "cell_type": "code",
      "execution_count": 38,
      "id": "3210f1ad",
      "metadata": {
        "id": "3210f1ad"
      },
      "outputs": [
        {
          "name": "stdout",
          "output_type": "stream",
          "text": [
            "Karen\n",
            "Ellen\n",
            "Rose\n"
          ]
        }
      ],
      "source": [
        "#Find the best performing employees (descending order)\n",
        "sorted_dictionary=sorted(dictionary2,reverse=True)[0:3]\n",
        "for i in sorted_dictionary:\n",
        "    print(dictionary2[i])"
      ]
    }
  ],
  "metadata": {
    "colab": {
      "collapsed_sections": [],
      "name": "Guided_project_3_updated.ipynb",
      "provenance": []
    },
    "kernelspec": {
      "display_name": "Python 3.10.7 64-bit",
      "language": "python",
      "name": "python3"
    },
    "language_info": {
      "codemirror_mode": {
        "name": "ipython",
        "version": 3
      },
      "file_extension": ".py",
      "mimetype": "text/x-python",
      "name": "python",
      "nbconvert_exporter": "python",
      "pygments_lexer": "ipython3",
      "version": "3.10.7"
    },
    "vscode": {
      "interpreter": {
        "hash": "e0b44264181467635ea2bc6f47fe90068c9b6f8f6719ab5749f6d45e7317ca04"
      }
    }
  },
  "nbformat": 4,
  "nbformat_minor": 5
}
